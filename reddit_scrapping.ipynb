{
 "cells": [
  {
   "cell_type": "code",
   "execution_count": 2,
   "id": "8569dfc8",
   "metadata": {},
   "outputs": [],
   "source": [
    "from pprint import pprint \n",
    "import pandas as pd \n",
    "import numpy as np \n",
    "import matplotlib.pyplot as plt\n",
    "import seaborn as sns \n",
    "import praw"
   ]
  },
  {
   "cell_type": "code",
   "execution_count": 3,
   "id": "8aa0b9b3",
   "metadata": {},
   "outputs": [],
   "source": [
    "user_agent = \"Scrapper 0.1 by Jan\" \n",
    "reddit = praw.Reddit(\n",
    "    client_id = \"YOUR_APP_ID\",\n",
    "    client_secret = \"YOUR_APP_SECRET_ID\",\n",
    "    user_agent = user_agent\n",
    ")"
   ]
  },
  {
   "cell_type": "code",
   "execution_count": 7,
   "id": "fa08bda5",
   "metadata": {},
   "outputs": [
    {
     "name": "stdout",
     "output_type": "stream",
     "text": [
      "727\n"
     ]
    }
   ],
   "source": [
    "headlines = set()\n",
    "for submission in reddit.subreddit('politics').hot(limit=None):\n",
    "    headlines.add(submission.title)\n",
    "    #print(submission.title)\n",
    "    #print(submission.id)\n",
    "    #print(submission.author)\n",
    "    #print(submission.created_utc)\n",
    "    #print(submission.score)\n",
    "    #print(submission.upvote_ratio)\n",
    "    #print(submission.url)\n",
    "    #break \n",
    "    \n",
    "print(len(headlines))"
   ]
  },
  {
   "cell_type": "code",
   "execution_count": 17,
   "id": "061ba4c3",
   "metadata": {},
   "outputs": [],
   "source": [
    "df = pd.DataFrame(headlines)\n",
    "df.head() \n",
    "df.to_csv('headlines.csv',header=False,encoding='utf-8',index=False)"
   ]
  },
  {
   "cell_type": "code",
   "execution_count": 18,
   "id": "8b855ae8",
   "metadata": {},
   "outputs": [
    {
     "name": "stderr",
     "output_type": "stream",
     "text": [
      "[nltk_data] Downloading package vader_lexicon to\n",
      "[nltk_data]     C:\\Users\\Tro\\AppData\\Roaming\\nltk_data...\n",
      "[nltk_data]   Package vader_lexicon is already up-to-date!\n"
     ]
    },
    {
     "data": {
      "text/plain": [
       "True"
      ]
     },
     "execution_count": 18,
     "metadata": {},
     "output_type": "execute_result"
    }
   ],
   "source": [
    "import nltk \n",
    "nltk.download('vader_lexicon')"
   ]
  },
  {
   "cell_type": "code",
   "execution_count": 25,
   "id": "e33ece59",
   "metadata": {},
   "outputs": [],
   "source": [
    "from nltk.sentiment.vader import SentimentIntensityAnalyzer as SIA\n",
    "sia = SIA()\n",
    "results = []\n",
    "#df.head()\n",
    "for line in headlines: \n",
    "    pol_score = sia.polarity_scores(line)\n",
    "    pol_score['headline'] = line \n",
    "    results.append(pol_score)\n",
    "#pprint(results[:3],width=100)"
   ]
  },
  {
   "cell_type": "code",
   "execution_count": 26,
   "id": "c87a1680",
   "metadata": {},
   "outputs": [
    {
     "data": {
      "text/html": [
       "<div>\n",
       "<style scoped>\n",
       "    .dataframe tbody tr th:only-of-type {\n",
       "        vertical-align: middle;\n",
       "    }\n",
       "\n",
       "    .dataframe tbody tr th {\n",
       "        vertical-align: top;\n",
       "    }\n",
       "\n",
       "    .dataframe thead th {\n",
       "        text-align: right;\n",
       "    }\n",
       "</style>\n",
       "<table border=\"1\" class=\"dataframe\">\n",
       "  <thead>\n",
       "    <tr style=\"text-align: right;\">\n",
       "      <th></th>\n",
       "      <th>neg</th>\n",
       "      <th>neu</th>\n",
       "      <th>pos</th>\n",
       "      <th>compound</th>\n",
       "      <th>headline</th>\n",
       "    </tr>\n",
       "  </thead>\n",
       "  <tbody>\n",
       "    <tr>\n",
       "      <th>0</th>\n",
       "      <td>0.306</td>\n",
       "      <td>0.694</td>\n",
       "      <td>0.000</td>\n",
       "      <td>-0.6486</td>\n",
       "      <td>Report: Feds Plan To Indict Chauvin And Other ...</td>\n",
       "    </tr>\n",
       "    <tr>\n",
       "      <th>1</th>\n",
       "      <td>0.283</td>\n",
       "      <td>0.566</td>\n",
       "      <td>0.151</td>\n",
       "      <td>-0.2732</td>\n",
       "      <td>Tennessee Republicans revive bill offering imm...</td>\n",
       "    </tr>\n",
       "    <tr>\n",
       "      <th>2</th>\n",
       "      <td>0.000</td>\n",
       "      <td>0.820</td>\n",
       "      <td>0.180</td>\n",
       "      <td>0.2960</td>\n",
       "      <td>Jamaal Bowman Explains How Progressives Will M...</td>\n",
       "    </tr>\n",
       "    <tr>\n",
       "      <th>3</th>\n",
       "      <td>0.192</td>\n",
       "      <td>0.808</td>\n",
       "      <td>0.000</td>\n",
       "      <td>-0.4215</td>\n",
       "      <td>Congress’ biggest ‘pedophile’ hunter is teamin...</td>\n",
       "    </tr>\n",
       "    <tr>\n",
       "      <th>4</th>\n",
       "      <td>0.106</td>\n",
       "      <td>0.894</td>\n",
       "      <td>0.000</td>\n",
       "      <td>-0.2263</td>\n",
       "      <td>The ‘Mississippi Plan’ to keep Blacks from vot...</td>\n",
       "    </tr>\n",
       "  </tbody>\n",
       "</table>\n",
       "</div>"
      ],
      "text/plain": [
       "     neg    neu    pos  compound  \\\n",
       "0  0.306  0.694  0.000   -0.6486   \n",
       "1  0.283  0.566  0.151   -0.2732   \n",
       "2  0.000  0.820  0.180    0.2960   \n",
       "3  0.192  0.808  0.000   -0.4215   \n",
       "4  0.106  0.894  0.000   -0.2263   \n",
       "\n",
       "                                            headline  \n",
       "0  Report: Feds Plan To Indict Chauvin And Other ...  \n",
       "1  Tennessee Republicans revive bill offering imm...  \n",
       "2  Jamaal Bowman Explains How Progressives Will M...  \n",
       "3  Congress’ biggest ‘pedophile’ hunter is teamin...  \n",
       "4  The ‘Mississippi Plan’ to keep Blacks from vot...  "
      ]
     },
     "execution_count": 26,
     "metadata": {},
     "output_type": "execute_result"
    }
   ],
   "source": [
    "df = pd.DataFrame.from_records(results)\n",
    "df.head()"
   ]
  },
  {
   "cell_type": "code",
   "execution_count": 30,
   "id": "72c6ff0c",
   "metadata": {},
   "outputs": [],
   "source": [
    "df['label'] = 0\n",
    "#df.head()\n",
    "df.loc[df['compound'] > 0.2, 'label'] = 1\n",
    "df.loc[df['compound'] < -0.2, 'label'] = -1\n",
    "#df.head()"
   ]
  },
  {
   "cell_type": "code",
   "execution_count": 31,
   "id": "a88b8535",
   "metadata": {},
   "outputs": [],
   "source": [
    "df2 = df[['headline','label']]\n",
    "df2.to_csv('reddit_headlines_labels.csv',encoding='utf-8',index=False)"
   ]
  },
  {
   "cell_type": "code",
   "execution_count": 32,
   "id": "128076ea",
   "metadata": {},
   "outputs": [
    {
     "data": {
      "text/plain": [
       " 0    40.027510\n",
       "-1    36.863824\n",
       " 1    23.108666\n",
       "Name: label, dtype: float64"
      ]
     },
     "execution_count": 32,
     "metadata": {},
     "output_type": "execute_result"
    }
   ],
   "source": [
    "df.label.value_counts(normalize=True) * 100"
   ]
  },
  {
   "cell_type": "code",
   "execution_count": 34,
   "id": "703f419b",
   "metadata": {},
   "outputs": [
    {
     "name": "stdout",
     "output_type": "stream",
     "text": [
      "Positive headlines:\n",
      "\n",
      "['Jamaal Bowman Explains How Progressives Will Make Biden’s Presidency Even Bolder',\n",
      " \"Fox News's Chris Wallace praises Biden speech\",\n",
      " \"Joe Biden is proving progressives wrong. And they're loving it.\",\n",
      " 'Biden restores presidential consultations that Trump dismissed',\n",
      " 'Florida Republicans Just Passed a Georgia-Style Voter Suppression Bill | The Florida GOP loved mail voting—until Democrats started using it more']\n",
      "\n",
      "Negative headlines:\n",
      "\n",
      "['Report: Feds Plan To Indict Chauvin And Other Officers On Civil Rights Violation Charges',\n",
      " 'Tennessee Republicans revive bill offering immunity for running over protesters blocking streets',\n",
      " 'Congress’ biggest ‘pedophile’ hunter is teaming up with Matt Gaetz, who faces underage sex accusation — Strange bedfellows, indeed.',\n",
      " 'The ‘Mississippi Plan’ to keep Blacks from voting in 1890: ‘We came here to exclude the Negro’',\n",
      " 'State Rep. Bryan Posthumus arrested on suspicion of drunk driving after rollover crash']\n"
     ]
    }
   ],
   "source": [
    "print(\"Positive headlines:\\n\")\n",
    "pprint(list(df[df['label'] ==1].headline)[:5],width=200)\n",
    "print(\"\\nNegative headlines:\\n\")\n",
    "pprint(list(df[df['label'] ==-1].headline)[:5],width=200)\n"
   ]
  },
  {
   "cell_type": "code",
   "execution_count": 36,
   "id": "78c8d061",
   "metadata": {},
   "outputs": [
    {
     "data": {
      "image/png": "[encoded data removed]",
      "text/plain": [
       "<Figure size 576x576 with 1 Axes>"
      ]
     },
     "metadata": {
      "needs_background": "light"
     },
     "output_type": "display_data"
    }
   ],
   "source": [
    "fix, ax = plt.subplots(figsize=(8,8))\n",
    "counts = df.label.value_counts(normalize=True) * 100 \n",
    "sns.barplot(x=counts.index, y=counts,ax=ax)\n",
    "ax.set_xticklabels(['Negative','Neutral','Positive'])\n",
    "ax.set_ylabel(\"percentage\")\n",
    "plt.show()"
   ]
  },
  {
   "cell_type": "code",
   "execution_count": null,
   "id": "bd3f0376",
   "metadata": {},
   "outputs": [],
   "source": []
  }
 ],
 "metadata": {
  "kernelspec": {
   "display_name": "ml",
   "language": "python",
   "name": "ml"
  },
  "language_info": {
   "codemirror_mode": {
    "name": "ipython",
    "version": 3
   },
   "file_extension": ".py",
   "mimetype": "text/x-python",
   "name": "python",
   "nbconvert_exporter": "python",
   "pygments_lexer": "ipython3",
   "version": "3.8.8"
  }
 },
 "nbformat": 4,
 "nbformat_minor": 5
}